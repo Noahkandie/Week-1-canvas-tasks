{
  "nbformat": 4,
  "nbformat_minor": 0,
  "metadata": {
    "colab": {
      "name": "Copy of Python Programming: Conditional (If) Statements",
      "provenance": [],
      "collapsed_sections": [
        "z4xtgHIJ1mui",
        "lsZdOcCiAQdJ",
        "MB_zJqo-41tc",
        "e8-T8Xw-1qYp",
        "Rkw7o23I2N3w",
        "bOZph-F21tuy",
        "qs4cjFqC1wm6",
        "UAFX7NgF23ab",
        "GLyWRU4w11-M"
      ],
      "toc_visible": true
    },
    "kernelspec": {
      "name": "python3",
      "display_name": "Python 3"
    }
  },
  "cells": [
    {
      "cell_type": "markdown",
      "metadata": {
        "id": "56wIrIHaAD6t"
      },
      "source": [
        "<font color=\"green\">*To start working on this notebook, or any other notebook that we will use in this course, we will need to save our own copy of it. We can do this by clicking File > Save a Copy in Drive. We will then be able to make edits to our own copy of this notebook.*</font>"
      ]
    },
    {
      "cell_type": "markdown",
      "metadata": {
        "id": "LVp8C4oB0yzk"
      },
      "source": [
        "# Python Programming: Conditional (If) Statements"
      ]
    },
    {
      "cell_type": "markdown",
      "metadata": {
        "id": "z4xtgHIJ1mui"
      },
      "source": [
        "## 1.0 Overview"
      ]
    },
    {
      "cell_type": "markdown",
      "metadata": {
        "id": "fS6UBkKd2DMo"
      },
      "source": [
        "So as to write useful python programs, we almost always need the ability to check conditions and apply a certain operation accordingly. Conditional statements like the if statement provide us with that ability."
      ]
    },
    {
      "cell_type": "markdown",
      "metadata": {
        "id": "lsZdOcCiAQdJ"
      },
      "source": [
        "##1.1 If"
      ]
    },
    {
      "cell_type": "code",
      "metadata": {
        "id": "-6728JH-2Esz",
        "colab": {
          "base_uri": "https://localhost:8080/"
        },
        "outputId": "89d9bd62-f85a-4ea2-f3fb-344b8dc80e60"
      },
      "source": [
        "# Example 1\n",
        "# We can write an if statement by using the if keyword as shown:\n",
        "#\n",
        "x = 200\n",
        "y = 100\n",
        "if y < x:\n",
        "  print(\"y is less than x\")"
      ],
      "execution_count": null,
      "outputs": [
        {
          "output_type": "stream",
          "text": [
            "y is less than x\n"
          ],
          "name": "stdout"
        }
      ]
    },
    {
      "cell_type": "code",
      "metadata": {
        "id": "ueDGWWPm2FHW"
      },
      "source": [
        "# Example 2\n",
        "# Below is another example of an if statement\n",
        "#\n",
        "x = 1\n",
        "y = 7\n",
        "\n",
        "# let's find out if x is greater than 7\n",
        "if x > y: \n",
        "  print('yes')\n"
      ],
      "execution_count": null,
      "outputs": []
    },
    {
      "cell_type": "code",
      "metadata": {
        "id": "NnbC7nkjq-Y_"
      },
      "source": [
        ""
      ],
      "execution_count": null,
      "outputs": []
    },
    {
      "cell_type": "markdown",
      "metadata": {
        "id": "MB_zJqo-41tc"
      },
      "source": [
        "### <font color=\"green\">1.1 Challenges</font>"
      ]
    },
    {
      "cell_type": "code",
      "metadata": {
        "id": "DD_AaNYQFjQw"
      },
      "source": [
        "# Challenge 1\n",
        "# In our first challenge, we will find out if y is less than 7 \n",
        "# If so, we will print out yes.\n",
        "#\n",
        "\n",
        "# We first declare and assign 1 to variable x and 7 to variable y\n",
        "x = 1\n",
        "y = 7\n",
        "\n",
        "if y < 7:\n",
        " print('yes')"
      ],
      "execution_count": null,
      "outputs": []
    },
    {
      "cell_type": "code",
      "metadata": {
        "id": "56hXs9yRFjFb"
      },
      "source": [
        "# Challenge 2\n",
        "# Let's find out if x == true. If so, we will print out yes.\n",
        "# We won't need to declare any variable in this challenge.\n",
        "#\n",
        "if x==2:\n",
        "  print('yes')"
      ],
      "execution_count": null,
      "outputs": []
    },
    {
      "cell_type": "code",
      "metadata": {
        "id": "b6R-wr4xFp5e",
        "colab": {
          "base_uri": "https://localhost:8080/"
        },
        "outputId": "01a6649a-4606-4bbe-c093-ba109dd27478"
      },
      "source": [
        "# Challenge 3\n",
        "# Let's find out if y is true. If so, we will print out yes. \n",
        "# We won't need to declare any variable in this challenge as well\n",
        "#\n",
        "if y==7:\n",
        "  print('yes')"
      ],
      "execution_count": null,
      "outputs": [
        {
          "output_type": "stream",
          "text": [
            "yes\n"
          ],
          "name": "stdout"
        }
      ]
    },
    {
      "cell_type": "markdown",
      "metadata": {
        "id": "e8-T8Xw-1qYp"
      },
      "source": [
        "## 1.2 Elif"
      ]
    },
    {
      "cell_type": "code",
      "metadata": {
        "id": "ERoyYLdk2MLL",
        "colab": {
          "base_uri": "https://localhost:8080/"
        },
        "outputId": "8ae55ddd-4f2a-494d-d358-2d6aabbb6df8"
      },
      "source": [
        "# Example 1\n",
        "# The elif keyword is a keyword that will try another condition \n",
        "# if the previous condition was not true.\n",
        "# The example below shows how the elif keyword can be used.\n",
        "# \n",
        "x = 33\n",
        "y = 33\n",
        "\n",
        "if y < x:\n",
        "  print(\"y is less than x\")\n",
        "elif x == y:\n",
        "  print(\"x and y are equal\")"
      ],
      "execution_count": null,
      "outputs": [
        {
          "output_type": "stream",
          "text": [
            "x and y are equal\n"
          ],
          "name": "stdout"
        }
      ]
    },
    {
      "cell_type": "code",
      "metadata": {
        "id": "GT8Q7jdf2Mze",
        "colab": {
          "base_uri": "https://localhost:8080/"
        },
        "outputId": "56444925-5761-45ee-c071-c83b6691c839"
      },
      "source": [
        "# Example 2\n",
        "# This is another example of how the elif keyword can be used.\n",
        "#\n",
        "choice = 'a'\n",
        "if choice == 'a':\n",
        "    print(\"You chose 'a'.\")\n",
        "elif choice == 'b':\n",
        "    print(\"You chose 'b'.\")\n",
        "elif choice == 'c':\n",
        "    print(\"You chose 'c'.\")"
      ],
      "execution_count": null,
      "outputs": [
        {
          "output_type": "stream",
          "text": [
            "You chose 'a'.\n"
          ],
          "name": "stdout"
        }
      ]
    },
    {
      "cell_type": "markdown",
      "metadata": {
        "id": "Rkw7o23I2N3w"
      },
      "source": [
        "### <font color=\"green\">1.2 Challenges </font>"
      ]
    },
    {
      "cell_type": "code",
      "metadata": {
        "id": "4yVpcy0f2RBM",
        "colab": {
          "base_uri": "https://localhost:8080/"
        },
        "outputId": "65fcae5f-a8fd-4f81-cdd4-14e2accf578c"
      },
      "source": [
        "# Challenge 1\n",
        "# Let's now write a program that reads an integer \n",
        "# from a user then displays a message indicating \n",
        "# whether the integer is even or odd.\n",
        "#\n",
        "b=22\n",
        "c=b%2\n",
        "if c>0:\n",
        "  print('odd')\n",
        "elif c==0:\n",
        "  print('even')\n"
      ],
      "execution_count": null,
      "outputs": [
        {
          "output_type": "stream",
          "text": [
            "even\n"
          ],
          "name": "stdout"
        }
      ]
    },
    {
      "cell_type": "code",
      "metadata": {
        "id": "LN1DVYd52R2_",
        "colab": {
          "base_uri": "https://localhost:8080/"
        },
        "outputId": "c1eaea50-5394-4ac4-83c0-69deb3e9a6b5"
      },
      "source": [
        "# Challenge 2: \n",
        "# We now write a program that reads a input from a user. \n",
        "# If the user enters a, e, i, o or u then our program should \n",
        "# display a message indicating that the entered letter is a vowel. \n",
        "# If our user enters y then our program should display a message \n",
        "# indicating that sometimes y is a vowel, and sometimes y is a consonant. \n",
        "# Otherwise our program should display a message indicating that the\n",
        "# letter is a consonant.\n",
        "#\n",
        "\n",
        "letter=input('Input letter = ')\n",
        "if letter in ('a', 'e','i','o','u'):\n",
        "  print (\"%s is a vowel.\" % letter)\n",
        "elif letter== 'y':\n",
        "  print(\"Sometimes letter y stand for vowel, sometimes stand for consonant.\")\n",
        "else:\n",
        " print(\"%s is a consonant\" % letter)"
      ],
      "execution_count": null,
      "outputs": [
        {
          "output_type": "stream",
          "text": [
            "Input letter = y\n",
            "Sometimes letter y stand for vowel, sometimes stand for consonant.\n"
          ],
          "name": "stdout"
        }
      ]
    },
    {
      "cell_type": "code",
      "metadata": {
        "id": "WyGQSsN22Rkg",
        "colab": {
          "base_uri": "https://localhost:8080/"
        },
        "outputId": "e21c9355-aaaf-4ca8-c97d-f20b721b1287"
      },
      "source": [
        "# Challenge 3\n",
        "# Let's now also write another program that asks for a number and computes the\n",
        "# square of that number. If the square is 100 or greater, print the squared value\n",
        "# and the word 'big'. Otherwise if the square is 50 or greater, print the\n",
        "# squared value and the word 'medium'. Otherwise just print 'too small to bother with'.\n",
        "# Hint: To compute squared, use x*x or x**2\n",
        "#\n",
        "\n",
        "x=float(input('Input a number: '))\n",
        "y=(x)**2\n",
        "if y>=100:\n",
        "  print(float(y),'Big')\n",
        "elif 50<=y<100:\n",
        "  print(float(y),'Medium')\n",
        "else: \n",
        "  print(float(y),'Too small to bother')\n"
      ],
      "execution_count": null,
      "outputs": [
        {
          "output_type": "stream",
          "text": [
            "Input a number: 12\n",
            "144.0 Big\n"
          ],
          "name": "stdout"
        }
      ]
    },
    {
      "cell_type": "markdown",
      "metadata": {
        "id": "bOZph-F21tuy"
      },
      "source": [
        "## 1.3 Else"
      ]
    },
    {
      "cell_type": "code",
      "metadata": {
        "id": "F8nzCtX82v-A",
        "colab": {
          "base_uri": "https://localhost:8080/"
        },
        "outputId": "374083e9-7575-4629-d4b5-b149e5786b44"
      },
      "source": [
        "# Example 1\n",
        "# The else keyword will catch anything else which isn't caught by the preceding conditions.\n",
        "# A use case of else keyword is in the following example. \n",
        "#\n",
        "\n",
        "# Declaring our variables\n",
        "x = 134\n",
        "y = 33\n",
        "\n",
        "if y > x:\n",
        "  print(\"y is greater than x\")\n",
        "elif x == y:\n",
        "  print(\"x and y are equal\")\n",
        "else:\n",
        "  print(\"x is greater than y\")"
      ],
      "execution_count": null,
      "outputs": [
        {
          "output_type": "stream",
          "text": [
            "x is greater than y\n"
          ],
          "name": "stdout"
        }
      ]
    },
    {
      "cell_type": "code",
      "metadata": {
        "id": "Zk9b5LJF2wcB",
        "colab": {
          "base_uri": "https://localhost:8080/"
        },
        "outputId": "f809805e-6242-4db2-af10-11323a652f06"
      },
      "source": [
        "# Example 2\n",
        "# The else keyword can also be used without elif as shown\n",
        "#\n",
        "\n",
        "# Prompting the user for an input\n",
        "temp_outside = float(input('What is the temperature outside? '))\n",
        "\n",
        "if temp_outside > 12:\n",
        "  print('No need for a sweater')\n",
        "else:\n",
        "  print('You need an sweater') "
      ],
      "execution_count": null,
      "outputs": [
        {
          "output_type": "stream",
          "text": [
            "What is the temperature outside? 55\n",
            "No need for a sweater\n"
          ],
          "name": "stdout"
        }
      ]
    },
    {
      "cell_type": "code",
      "metadata": {
        "id": "HaGipQqmvPXE",
        "colab": {
          "base_uri": "https://localhost:8080/"
        },
        "outputId": "0ef2bd55-15f5-4f18-82ab-6c10270d8191"
      },
      "source": [
        "# Example 3\n",
        "# We should also note that indentation is significantly important as shown\n",
        "# \n",
        "\n",
        "# Declaring our varioable\n",
        "x = 12\n",
        "\n",
        "if x > 12:\n",
        "  print ('x is greater than 12')\n",
        "  if x >= 17:\n",
        "    print ('x is also at least 17')\n",
        "elif x > 7:\n",
        "  print ('x is greater than 7 but not greater than 12')\n",
        "else:\n",
        "  print ('no condition matched')\n",
        "  print ('so x is 7 or less')"
      ],
      "execution_count": null,
      "outputs": [
        {
          "output_type": "stream",
          "text": [
            "x is greater than 7 but not greater than 12\n"
          ],
          "name": "stdout"
        }
      ]
    },
    {
      "cell_type": "markdown",
      "metadata": {
        "id": "X5rie0KH2xAp"
      },
      "source": [
        "### <font color=\"green\"> 1.3 Challenges </font>"
      ]
    },
    {
      "cell_type": "code",
      "metadata": {
        "id": "z3TvASOt2zIt",
        "colab": {
          "base_uri": "https://localhost:8080/"
        },
        "outputId": "d30d58d7-af3f-4bdf-9cb5-a3dd2f777ad0"
      },
      "source": [
        "# Challenge 1\n",
        "# Let's write a program that reads a month and day from the user. \n",
        "# If the month and day matches one of the holidays listed previously \n",
        "# then the program should display the Kenyan holiday’s name. \n",
        "# Otherwise our program should indicate that the entered month and day \n",
        "# do not correspond to a holiday. (You should use the else keyword)\n",
        "#\n",
        "print('Kenyan holidays = Madaraka day, Huduma day, Mashujaa day, Jamhuri day, Utamaduni day')\n",
        "\n",
        "month_holiday=input('Input the month: ')\n",
        "day_holiday=str(input('Input the day: '))\n",
        "\n",
        "if month_holiday == 'June'and day_holiday == '1':\n",
        "  print('The holiday is Madaraka day')\n",
        "elif month_holiday == 'October'and day_holiday == '10':\n",
        "  print('The holiday is Huduma day')\n",
        "elif month_holiday == \"October\"and day_holiday == '20':\n",
        "  print('The holiday is Mashujaa day')\n",
        "elif month_holiday == 'December'and day_holiday == '12':\n",
        "  print('The holiday is Jamhuri day')\n",
        "elif month_holiday == 'December'and day_holiday == '26':\n",
        "  print('The holiday is Utamaduni day')\n",
        "else:\n",
        "  print('The date doesnt correspond to a holiday')"
      ],
      "execution_count": null,
      "outputs": [
        {
          "output_type": "stream",
          "text": [
            "Kenyan holidays = Madaraka day, Huduma day, Mashujaa day, Jamhuri day, Utamaduni day\n",
            "Input the month: June\n",
            "Input the day: 1\n",
            "The holiday is Madaraka day\n"
          ],
          "name": "stdout"
        }
      ]
    },
    {
      "cell_type": "code",
      "metadata": {
        "id": "szGqVsAc2zft",
        "colab": {
          "base_uri": "https://localhost:8080/"
        },
        "outputId": "f9ceae23-909c-4e7b-c937-f10c7b9485a7"
      },
      "source": [
        "# Challenge 2\n",
        "# Write a program that reads a wavelength from the user and reports its color. \n",
        "# Display an appropriate error message if the wavelength entered by the user \n",
        "# is outside of the visible spectrum. \n",
        "# (You can do external research on this challenge to determine the wavelength).\n",
        "# You should use the else keyword.\n",
        "#vl=visible light\n",
        "#\n",
        "vl=float(input('Input enter the wavelength: '))\n",
        "if 380<=vl<=700:\n",
        "  print('This is visible light wavelength')\n",
        "elif vl<380 :\n",
        "  print('The wavelength is below the visible wavelength')\n",
        "else:\n",
        "  print('The wavelength is higher than visible wavelength')"
      ],
      "execution_count": null,
      "outputs": [
        {
          "output_type": "stream",
          "text": [
            "Input enter the wavelength: 44\n",
            "The wavelength is below the visible wavelength\n"
          ],
          "name": "stdout"
        }
      ]
    },
    {
      "cell_type": "code",
      "metadata": {
        "id": "1uHkXVZtuMPK",
        "colab": {
          "base_uri": "https://localhost:8080/"
        },
        "outputId": "a94f52b7-5e55-4f4f-f7f1-69312ff6ca26"
      },
      "source": [
        "# Challenge 3\n",
        "# Let's create a program that reads the name of a month from the user as a string, \n",
        "# then displays the number of days in that month. \n",
        "# The length of a month varies from 28 to 31 days. \n",
        "# The program needs to also display “28 or 29 days” for February \n",
        "# so that leap years are taken into account.\n",
        "# The program should use the else keyword.\n",
        "# \n",
        "month_name=str(input('Type a name of a month: '))\n",
        "if month_name in (\"January\",\"March\",\"May\",\"July\",\"August\",\"October\",\"December\"):\n",
        "  print('No of days =31 days')\n",
        "elif month_name in (\"February\"):\n",
        "  print('No of days = 28 or 29 days')\n",
        "elif month_name in (\"April\",\"June\",\"September\",\"November\"):\n",
        "  print('No of days =30 Days')\n",
        "else:\n",
        " print('Wrong Month name')\n"
      ],
      "execution_count": null,
      "outputs": [
        {
          "output_type": "stream",
          "text": [
            "Type a months name: June\n",
            "No of days =30 Days\n"
          ],
          "name": "stdout"
        }
      ]
    },
    {
      "cell_type": "markdown",
      "metadata": {
        "id": "qs4cjFqC1wm6"
      },
      "source": [
        "## 1.4 And\n",
        "\n",
        "\n"
      ]
    },
    {
      "cell_type": "code",
      "metadata": {
        "id": "QhXLc8z-2120",
        "colab": {
          "base_uri": "https://localhost:8080/"
        },
        "outputId": "7b0129a1-2179-479e-fbb8-19cd5f3bf583"
      },
      "source": [
        "# Example 1\n",
        "# We can also use the and keyword to combine conditional statements.\n",
        "#\n",
        "\n",
        "# Declaring our variables\n",
        "x = 11\n",
        "y = 10\n",
        "z = 12\n",
        "\n",
        "if x > y and z > x:\n",
        "  print(\"Both conditions are True\")"
      ],
      "execution_count": null,
      "outputs": [
        {
          "output_type": "stream",
          "text": [
            "Both conditions are True\n"
          ],
          "name": "stdout"
        }
      ]
    },
    {
      "cell_type": "code",
      "metadata": {
        "id": "fRaI1Odr22lS",
        "colab": {
          "base_uri": "https://localhost:8080/"
        },
        "outputId": "33243943-410a-4411-9d4d-51eb630d313a"
      },
      "source": [
        "# Example 2\n",
        "# \n",
        "\n",
        "# Declaring our variables\n",
        "name = \"James\"    \n",
        "age  = 24 \n",
        "\n",
        "if name == \"James\" and age == 24:\n",
        "  print(\"Your name is James, and you are also 24 years old.\")"
      ],
      "execution_count": null,
      "outputs": [
        {
          "output_type": "stream",
          "text": [
            "Your name is James, and you are also 24 years old.\n"
          ],
          "name": "stdout"
        }
      ]
    },
    {
      "cell_type": "code",
      "metadata": {
        "id": "VB5NlzM922Ux",
        "colab": {
          "base_uri": "https://localhost:8080/"
        },
        "outputId": "34e9030a-9afc-4401-c648-771a6738d0cb"
      },
      "source": [
        "# Example 3 \n",
        "#\n",
        "\n",
        "# Declaring our variables\n",
        "name = \"James\"      # Let's store our name in the name variable\n",
        "age  =  12        # Let's store our age in the age variable\n",
        "\n",
        "if name == \"James\" and age == 24:\n",
        "  print(\"Your name is James, and you are also 24 years old.\")\n",
        "else: \n",
        "  print(\"You are not James, who is 24 years old.\")"
      ],
      "execution_count": null,
      "outputs": [
        {
          "output_type": "stream",
          "text": [
            "You are not James, who is 24 years old.\n"
          ],
          "name": "stdout"
        }
      ]
    },
    {
      "cell_type": "markdown",
      "metadata": {
        "id": "UAFX7NgF23ab"
      },
      "source": [
        "### <font color=\"green\">1.4 Challenges</font>"
      ]
    },
    {
      "cell_type": "code",
      "metadata": {
        "id": "g26Rql1z25Ff",
        "colab": {
          "base_uri": "https://localhost:8080/"
        },
        "outputId": "a03f3534-f234-4332-9b16-8c907f2404d3"
      },
      "source": [
        "# Challenge 1:\n",
        "# Given the 3 sides of a triangle x, y and z, let's find out \n",
        "# whether the triangle is equilateral, isosceles or obtuse.\n",
        "# Note: An equilateral triagnle has all sides are equal, \n",
        "# isosceles means that two of the sides are equal but not the third one, \n",
        "# obtuse means all 3 are different. The user will be prompted \n",
        "# to provide the values of x, y and z\n",
        "# \n",
        "x=int(input('x= '))\n",
        "y=int(input('y= '))\n",
        "z=int(input('z= '))\n",
        "if x==y==z:\n",
        "  print('Equilateral triangle')\n",
        "elif x==y or x==z or y==z:\n",
        "\n",
        "  print('Isoscles triangle')\n",
        "else:\n",
        "  print('Obtuse triangle')"
      ],
      "execution_count": null,
      "outputs": [
        {
          "output_type": "stream",
          "text": [
            "x= 97\n",
            "y= 22\n",
            "z= 22\n",
            "Isoscles triangle\n"
          ],
          "name": "stdout"
        }
      ]
    },
    {
      "cell_type": "markdown",
      "metadata": {
        "id": "GLyWRU4w11-M"
      },
      "source": [
        "## 1.5 Or"
      ]
    },
    {
      "cell_type": "code",
      "metadata": {
        "id": "jIyeUjAq3D2n",
        "colab": {
          "base_uri": "https://localhost:8080/"
        },
        "outputId": "5a5712cc-02d4-4b9f-eb8f-72850848f89d"
      },
      "source": [
        "# Example 1\n",
        "# We can also use the if keyword to combine conditional statements. \n",
        "#\n",
        "\n",
        "# Declaring our variables\n",
        "x = 10\n",
        "y = 11\n",
        "z = 9\n",
        "\n",
        "if x > y or x > z:\n",
        "  print(\"At least one of the conditions is True\")"
      ],
      "execution_count": null,
      "outputs": [
        {
          "output_type": "stream",
          "text": [
            "At least one of the conditions is True\n"
          ],
          "name": "stdout"
        }
      ]
    },
    {
      "cell_type": "code",
      "metadata": {
        "id": "bq7T-If83FVy",
        "colab": {
          "base_uri": "https://localhost:8080/"
        },
        "outputId": "d5c92df7-a9fe-43da-ff46-396dc1e8ab5b"
      },
      "source": [
        "# Example 2\n",
        "#\n",
        "\n",
        "# Declaring our variables\n",
        "x = int(input(\"Enter value of x = \"))\n",
        "y = int(input(\"Enter value of y = \"))\n",
        " \n",
        "if (x >= 15) or (y <= 25):\n",
        "  print(\"x >= 15 or y <= 25 so if statement is True\")\n",
        "else:\n",
        "  print(\"Value of x < 15 and y > 25 so if statement is False!\")"
      ],
      "execution_count": null,
      "outputs": [
        {
          "output_type": "stream",
          "text": [
            "Enter value of x = 2\n",
            "Enter value of y = 1\n",
            "x >= 15 or y <= 25 so if statement is True\n"
          ],
          "name": "stdout"
        }
      ]
    },
    {
      "cell_type": "code",
      "metadata": {
        "id": "FN29xkMq3FnA",
        "colab": {
          "base_uri": "https://localhost:8080/"
        },
        "outputId": "d4d3797d-d759-4c12-a4ae-dbb858f722cc"
      },
      "source": [
        "# Example 3\n",
        "#\n",
        "\n",
        "# Declaring our variables\n",
        "w = 10\n",
        "x = 15\n",
        "y = 20\n",
        "z = 25\n",
        " \n",
        "if (w == 10 or x == 15) and (y == 16 or z == 25):\n",
        "  print(\"If statement is True\")\n",
        "else:\n",
        "  print(\"False\")"
      ],
      "execution_count": null,
      "outputs": [
        {
          "output_type": "stream",
          "text": [
            "If statement is True\n"
          ],
          "name": "stdout"
        }
      ]
    },
    {
      "cell_type": "markdown",
      "metadata": {
        "id": "TNIQRbN-3GNh"
      },
      "source": [
        "### <font color=\"green\">1.5 Challenges</font>"
      ]
    },
    {
      "cell_type": "code",
      "metadata": {
        "id": "Vhx4FY_P3J93",
        "colab": {
          "base_uri": "https://localhost:8080/"
        },
        "outputId": "344aa596-0de9-4664-997a-857ea18ccab2"
      },
      "source": [
        "# Challenge 1\n",
        "# Using the Or operator, let's create a function \n",
        "# that determines the type of a triangle \n",
        "# based on the lengths of its sides. A user will be inputting\n",
        "# the sides of the triange\n",
        "#\n",
        "x=int(input('x= '))\n",
        "y=int(input('y= '))\n",
        "z=int(input('z= '))\n",
        "if x==y==z:\n",
        "  print('Equilateral triangle')\n",
        "elif x==y or x==z or y==z:\n",
        "\n",
        "  print('Isoscles triangle')\n",
        "else:\n",
        "  print('Obtuse triangle')"
      ],
      "execution_count": null,
      "outputs": [
        {
          "output_type": "stream",
          "text": [
            "x= 1\n",
            "y= 1\n",
            "z= 5\n",
            "Isoscles triangle\n"
          ],
          "name": "stdout"
        }
      ]
    },
    {
      "cell_type": "code",
      "metadata": {
        "id": "VVh8NAu83KW6",
        "colab": {
          "base_uri": "https://localhost:8080/"
        },
        "outputId": "6277a72d-bf12-4b9d-b435-57d228c268ec"
      },
      "source": [
        "# Challenge 2\n",
        "# Using the Or operator, let's create a function \n",
        "# that checks whether a number given \n",
        "# by a user is greater than 30 or greater than 100. \n",
        "#\n",
        "x=float(input('Insert a number: '))\n",
        "if x>30 and x>100:\n",
        "  print('Number is greater than 100')\n",
        "elif x>30 or x>100:\n",
        "  print('Number is greater than 30')\n",
        "else:\n",
        "  print('number is less than 30')"
      ],
      "execution_count": null,
      "outputs": [
        {
          "output_type": "stream",
          "text": [
            "Insert a number: 34\n",
            "Number is greater than 30\n"
          ],
          "name": "stdout"
        }
      ]
    },
    {
      "cell_type": "code",
      "metadata": {
        "id": "5sMQVqPQtUaO",
        "colab": {
          "base_uri": "https://localhost:8080/"
        },
        "outputId": "59888104-c048-486a-b40a-e5a4fb80a4c6"
      },
      "source": [
        "# Challenge 3\n",
        "# Let's write a program that prompts a letter from a user. \n",
        "# When any of the letters a, e, i, o or u are entered, \n",
        "# then your program should display a message indicating that the entered letter is a vowel. \n",
        "# If the user enters y then your program should display a message \n",
        "# indicating that sometimes y is a vowel, and sometimes y is a consonant. \n",
        "# Else the program should display a message indicating that the letter is a consonant.\n",
        "#\n",
        "letter_1=str(input('Input a letter: '))\n",
        "if letter_1 in ('a','e','i')or letter_1 in ('o','u'):\n",
        "  print('Letter is a vowel')\n",
        "elif letter_1=='y':\n",
        "  print('sometimes y is a vowel and sometimes y is a consonant')\n",
        "else:\n",
        "  print('It is a consonant ')\n"
      ],
      "execution_count": null,
      "outputs": [
        {
          "output_type": "stream",
          "text": [
            "Input a letter: y\n",
            "sometimes y is a vowel and sometimes y is a consonant\n"
          ],
          "name": "stdout"
        }
      ]
    }
  ]
}